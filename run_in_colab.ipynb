{
 "cells": [
  {
   "cell_type": "code",
   "execution_count": null,
   "id": "61e64a0f",
   "metadata": {
    "vscode": {
     "languageId": "plaintext"
    }
   },
   "outputs": [],
   "source": [
    "# 1. Clone repo\n",
    "!git clone https://github.com/Domtaoz/IDM-VTON.git\n",
    "%cd IDM-VTON\n",
    "\n",
    "# 2. Install requirements\n",
    "!pip install -r requirements.txt\n",
    "!pip install gradio==3.39\n",
    "#!pip install gradio_client==0.14.0\n",
    "!pip install pydantic==2.10.6\n",
    "!pip install fastapi==0.112.2\n",
    "!pip install starlette==0.45.3\n",
    "\n",
    "# 3. Mount Google Drive (ถ้าใช้ไฟล์ checkpoint จาก Drive)\n",
    "from google.colab import drive\n",
    "drive.mount('/content/drive')\n",
    "\n",
    "# 4. Prepare checkpoint folders\n",
    "!mkdir -p ckpt/densepose\n",
    "!mkdir -p ckpt/humanparsing\n",
    "!mkdir -p ckpt/openpose/ckpts\n",
    "\n",
    "# 5. Copy checkpoints (แก้ไข path ตามไฟล์ที่มี)\n",
    "!cp /content/drive/MyDrive/AI_Models/model_final_162be9.pkl ckpt/densepose/model_final_162be9.pkl\n",
    "!cp /content/drive/MyDrive/AI_Models/parsing_atr.onnx ckpt/humanparsing/parsing_atr.onnx\n",
    "!cp /content/drive/MyDrive/AI_Models/parsing_lip.onnx ckpt/humanparsing/parsing_lip.onnx\n",
    "!cp /content/drive/MyDrive/AI_Models/body_pose_model.pth ckpt/openpose/ckpts/body_pose_model.pth\n",
    "\n",
    "# 6. Run Gradio app\n",
    "!python gradio_demo/app.py \n",
    "\n"
   ]
  }
 ],
 "metadata": {
  "language_info": {
   "name": "python"
  }
 },
 "nbformat": 4,
 "nbformat_minor": 5
}
