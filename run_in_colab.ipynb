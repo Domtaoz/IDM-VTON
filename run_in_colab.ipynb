{
 "cells": [
  {
   "cell_type": "code",
   "execution_count": null,
   "id": "61e64a0f",
   "metadata": {
    "vscode": {
     "languageId": "plaintext"
    }
   },
   "outputs": [],
   "source": [
    "# 1. Clone repo\n",
    "!git clone https://github.com/yisol/IDM-VTON.git\n",
    "%cd IDM-VTON\n",
    "\n",
    "!pip uninstall -y gradio gradio-client\n",
    "\n",
    "# 2. Install requirements\n",
    "!pip install torch==2.0.1 torchvision==0.15.2 torchaudio==2.0.2\n",
    "!pip install tqdm transformers==4.36.2 diffusers==0.25.0 einops==0.7.0 scipy==1.11.1 opencv-python gradio==4.44.1 huggingface_hub==0.19.4 accelerate==0.21.0 peft==0.6.2 cloudpickle omegaconf pycocotools av onnxruntime==1.16.2\n",
    "!pip install git+https://github.com/facebookresearch/fvcore\n",
    "!pip install git+https://github.com/xinntao/BasicSR.git\n",
    "\n",
    "# 3. Mount Google Drive (ถ้าใช้ไฟล์ checkpoint จาก Drive)\n",
    "from google.colab import drive\n",
    "drive.mount('/content/drive')\n",
    "\n",
    "# 4. Prepare checkpoint folders\n",
    "!mkdir -p ckpt/densepose\n",
    "!mkdir -p ckpt/humanparsing\n",
    "!mkdir -p ckpt/openpose/ckpts\n",
    "\n",
    "# 5. Copy checkpoints (แก้ไข path ตามไฟล์ที่มี)\n",
    "!cp /content/drive/MyDrive/AI_Models/model_final_162be9.pkl ckpt/densepose/model_final_162be9.pkl\n",
    "!cp /content/drive/MyDrive/AI_Models/parsing_atr.onnx ckpt/humanparsing/parsing_atr.onnx\n",
    "!cp /content/drive/MyDrive/AI_Models/parsing_lip.onnx ckpt/humanparsing/parsing_lip.onnx\n",
    "!cp /content/drive/MyDrive/AI_Models/body_pose_model.pth ckpt/openpose/ckpts/body_pose_model.pth\n",
    "\n",
    "# 6. Run Gradio app\n",
    "!python gradio_demo/app.py --share\n",
    "\n"
   ]
  }
 ],
 "metadata": {
  "language_info": {
   "name": "python"
  }
 },
 "nbformat": 4,
 "nbformat_minor": 5
}
