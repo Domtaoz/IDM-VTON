{
 "cells": [
  {
   "cell_type": "code",
   "execution_count": null,
   "id": "61e64a0f",
   "metadata": {
    "vscode": {
     "languageId": "plaintext"
    }
   },
   "outputs": [],
   "source": [
    "!git clone https://github.com/Domtaoz/IDM-VTON.git\n",
    "%cd IDM-VTON\n",
    "\n",
    "from google.colab import drive\n",
    "drive.mount('/content/drive')\n",
    "\n",
    "\n",
    "!wget -c 'https://huggingface.co/yisol/IDM-VTON/resolve/main/densepose/model_final_162be9.pkl' -O /content/drive/MyDrive/AI_Models/model_final_162be9.pkl\n",
    "!wget -c 'https://huggingface.co/yisol/IDM-VTON/resolve/main/humanparsing/parsing_atr.onnx' -O /content/drive/MyDrive/AI_Models/parsing_atr.onnx\n",
    "!wget -c 'https://huggingface.co/yisol/IDM-VTON/resolve/main/humanparsing/parsing_lip.onnx' -O /content/drive/MyDrive/AI_Models/parsing_lip.onnx\n",
    "!wget -c 'https://huggingface.co/yisol/IDM-VTON/resolve/main/openpose/ckpts/body_pose_model.pth' -O /content/drive/MyDrive/AI_Models/body_pose_model.pth\n",
    "!wget -c 'https://huggingface.co/yisol/IDM-VTON/resolve/main/image_encoder/model.safetensors' -O /content/drive/MyDrive/AI_Models/model.safetensors\n",
    "\n",
    "\n",
    "!mkdir -p ckpt/densepose\n",
    "!cp /content/drive/MyDrive/AI_Models/model_final_162be9.pkl ckpt/densepose/model_final_162be9.pkl\n",
    "!mkdir -p ckpt/humanparsing\n",
    "!cp /content/drive/MyDrive/AI_Models/parsing_atr.onnx ckpt/humanparsing/parsing_atr.onnx\n",
    "!cp /content/drive/MyDrive/AI_Models/parsing_lip.onnx ckpt/humanparsing/parsing_lip.onnx\n",
    "!mkdir -p ckpt/image_encoder\n",
    "!cp /content/drive/MyDrive/AI_Models/model.safetensors ckpt/image_encoder/model.safetensors\n",
    "!mkdir -p ckpt/openpose/ckpts\n",
    "!cp /content/drive/MyDrive/AI_Models/body_pose_model.pth ckpt/openpose/ckpts/body_pose_model.pth\n",
    "\n",
    "!pip install huggingface_hub==0.19.4 diffusers==0.25.0\n",
    "\n",
    "!pip install -r requirements.txt\n",
    "\n",
    "!python gradio_demo/app.py"
   ]
  }
 ],
 "metadata": {
  "language_info": {
   "name": "python"
  }
 },
 "nbformat": 4,
 "nbformat_minor": 5
}
