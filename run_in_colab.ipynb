{
 "cells": [
  {
   "cell_type": "code",
   "execution_count": null,
   "id": "61e64a0f",
   "metadata": {
    "vscode": {
     "languageId": "plaintext"
    }
   },
   "outputs": [],
   "source": [
    "# Clone repo\n",
    "!git clone https://github.com/Domtaoz/IDM-VTON.git\n",
    "%cd IDM-VTON\n",
    "\n",
    "# Install dependencies\n",
    "!pip install -r requirements.txt\n",
    "\n",
    "!pip install huggingface_hub==0.15.1\n",
    "\n",
    "# Download models/weights\n",
    "!bash start.sh\n",
    "\n",
    "# Run app (Gradio)\n",
    "!python gradio_demo/app.py\n"
   ]
  }
 ],
 "metadata": {
  "language_info": {
   "name": "python"
  }
 },
 "nbformat": 4,
 "nbformat_minor": 5
}
