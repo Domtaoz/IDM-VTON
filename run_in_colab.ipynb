{
 "cells": [
  {
   "cell_type": "code",
   "execution_count": null,
   "id": "61e64a0f",
   "metadata": {
    "vscode": {
     "languageId": "plaintext"
    }
   },
   "outputs": [],
   "source": [
    "!git clone https://github.com/Domtaoz/IDM-VTON.git\n",
    "%cd IDM-VTON\n",
    "\n",
    "from google.colab import drive\n",
    "drive.mount('/content/drive')\n",
    "\n",
    "!mkdir -p ckpt/densepose\n",
    "!mkdir -p ckpt/humanparsing\n",
    "!mkdir -p ckpt/image_encoder\n",
    "!mkdir -p ckpt/openpose/ckpts\n",
    "\n",
    "!cp -f /content/drive/MyDrive/AI_Models/model_final_162be9.pkl ckpt/densepose/model_final_162be9.pkl\n",
    "!cp -f /content/drive/MyDrive/AI_Models/parsing_atr.onnx ckpt/humanparsing/parsing_atr.onnx\n",
    "!cp -f /content/drive/MyDrive/AI_Models/parsing_lip.onnx ckpt/humanparsing/parsing_lip.onnx\n",
    "!cp -f /content/drive/MyDrive/AI_Models/model.safetensors ckpt/image_encoder/model.safetensors\n",
    "!cp -f /content/drive/MyDrive/AI_Models/body_pose_model.pth ckpt/openpose/ckpts/body_pose_model.pth\n",
    "\n",
    "!ls -lh /content/IDM-VTON/ckpt/\n",
    "\n",
    "# Install dependencies\n",
    "!pip install -r requirements.txt\n",
    "\n",
    "# Run app (Gradio)\n",
    "!python gradio_demo/app.py\n"
   ]
  }
 ],
 "metadata": {
  "language_info": {
   "name": "python"
  }
 },
 "nbformat": 4,
 "nbformat_minor": 5
}
