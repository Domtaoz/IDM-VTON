{
 "cells": [
  {
   "cell_type": "code",
   "execution_count": null,
   "id": "61e64a0f",
   "metadata": {
    "vscode": {
     "languageId": "plaintext"
    }
   },
   "outputs": [],
   "source": [
    "!git clone https://github.com/Domtaoz/IDM-VTON.git\n",
    "%cd IDM-VTON\n",
    "\n",
    "!pip install gradio==3.50.2 gradio_client==0.8.1 --force-reinstall\n",
    "\n",
    "# Install dependencies\n",
    "!pip install -r requirements.txt\n",
    "\n",
    "# Download models/weights\n",
    "!bash start.sh\n",
    "\n",
    "# Run app (Gradio)\n",
    "!python gradio_demo/app.py"
   ]
  }
 ],
 "metadata": {
  "language_info": {
   "name": "python"
  }
 },
 "nbformat": 4,
 "nbformat_minor": 5
}
